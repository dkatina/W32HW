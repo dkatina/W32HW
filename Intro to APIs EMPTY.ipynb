{
 "cells": [
  {
   "cell_type": "markdown",
   "id": "7196054f",
   "metadata": {},
   "source": [
    "# Working with APIs"
   ]
  },
  {
   "cell_type": "markdown",
   "id": "0547b71e",
   "metadata": {},
   "source": [
    "API stands for Application programming interface<br>\n",
    "APIs are a way for applications to talk to eachother<br>\n",
    "In python we use the requests package to handle the connection<br>\n",
    "<small><strong>Note: It is requests with an s not request(this is a different package)</strong></small><br>\n",
    "Most API's communicate with data in the form of JSON<br>\n",
    "JSON stands for JavaScript Object Notation"
   ]
  },
  {
   "cell_type": "code",
   "execution_count": 3,
   "id": "4db9d154",
   "metadata": {},
   "outputs": [
    {
     "name": "stdout",
     "output_type": "stream",
     "text": [
      "Help on package requests:\n",
      "\n",
      "NAME\n",
      "    requests\n",
      "\n",
      "DESCRIPTION\n",
      "    Requests HTTP Library\n",
      "    ~~~~~~~~~~~~~~~~~~~~~\n",
      "    \n",
      "    Requests is an HTTP library, written in Python, for human beings.\n",
      "    Basic GET usage:\n",
      "    \n",
      "       >>> import requests\n",
      "       >>> r = requests.get('https://www.python.org')\n",
      "       >>> r.status_code\n",
      "       200\n",
      "       >>> b'Python is a programming language' in r.content\n",
      "       True\n",
      "    \n",
      "    ... or POST:\n",
      "    \n",
      "       >>> payload = dict(key1='value1', key2='value2')\n",
      "       >>> r = requests.post('https://httpbin.org/post', data=payload)\n",
      "       >>> print(r.text)\n",
      "       {\n",
      "         ...\n",
      "         \"form\": {\n",
      "           \"key1\": \"value1\",\n",
      "           \"key2\": \"value2\"\n",
      "         },\n",
      "         ...\n",
      "       }\n",
      "    \n",
      "    The other HTTP methods are supported - see `requests.api`. Full documentation\n",
      "    is at <https://requests.readthedocs.io>.\n",
      "    \n",
      "    :copyright: (c) 2017 by Kenneth Reitz.\n",
      "    :license: Apache 2.0, see LICENSE for more details.\n",
      "\n",
      "PACKAGE CONTENTS\n",
      "    __version__\n",
      "    _internal_utils\n",
      "    adapters\n",
      "    api\n",
      "    auth\n",
      "    certs\n",
      "    compat\n",
      "    cookies\n",
      "    exceptions\n",
      "    help\n",
      "    hooks\n",
      "    models\n",
      "    packages\n",
      "    sessions\n",
      "    status_codes\n",
      "    structures\n",
      "    utils\n",
      "\n",
      "FUNCTIONS\n",
      "    check_compatibility(urllib3_version, chardet_version, charset_normalizer_version)\n",
      "\n",
      "DATA\n",
      "    __author_email__ = 'me@kennethreitz.org'\n",
      "    __build__ = 141057\n",
      "    __cake__ = '✨ 🍰 ✨'\n",
      "    __copyright__ = 'Copyright 2022 Kenneth Reitz'\n",
      "    __description__ = 'Python HTTP for Humans.'\n",
      "    __license__ = 'Apache 2.0'\n",
      "    __title__ = 'requests'\n",
      "    __url__ = 'https://requests.readthedocs.io'\n",
      "    chardet_version = '4.0.0'\n",
      "    charset_normalizer_version = '2.0.4'\n",
      "    codes = <lookup 'status_codes'>\n",
      "\n",
      "VERSION\n",
      "    2.27.1\n",
      "\n",
      "AUTHOR\n",
      "    Kenneth Reitz\n",
      "\n",
      "FILE\n",
      "    c:\\users\\dylan\\anaconda3\\lib\\site-packages\\requests\\__init__.py\n",
      "\n",
      "\n"
     ]
    }
   ],
   "source": [
    "#import the packages we need:\n",
    "import requests\n"
   ]
  },
  {
   "cell_type": "markdown",
   "id": "e8c2ce51",
   "metadata": {},
   "source": [
    "We will be connecting to the Ergast F1 Racer API today:\n",
    "http://ergast.com/mrd/\n",
    "\n",
    "to view JSON data nicely in the Chrome browser install the extension JSONview"
   ]
  },
  {
   "cell_type": "code",
   "execution_count": 4,
   "id": "52c440c6",
   "metadata": {},
   "outputs": [],
   "source": [
    "url = 'https://ergast.com/api/f1/2008/5/driverStandings.json'"
   ]
  },
  {
   "cell_type": "code",
   "execution_count": 5,
   "id": "f60c1b4a",
   "metadata": {},
   "outputs": [
    {
     "name": "stdout",
     "output_type": "stream",
     "text": [
      "<Response [200]>\n"
     ]
    }
   ],
   "source": [
    "response = requests.get(url)\n",
    "print(response)"
   ]
  },
  {
   "cell_type": "code",
   "execution_count": 6,
   "id": "7b63a204",
   "metadata": {},
   "outputs": [
    {
     "name": "stdout",
     "output_type": "stream",
     "text": [
      "200\n"
     ]
    },
    {
     "data": {
      "text/plain": [
       "True"
      ]
     },
     "execution_count": 6,
     "metadata": {},
     "output_type": "execute_result"
    }
   ],
   "source": [
    "#response object\n",
    "print(response.status_code)\n",
    "\n",
    "response.ok\n"
   ]
  },
  {
   "cell_type": "code",
   "execution_count": 3,
   "id": "c6d1fdaf",
   "metadata": {},
   "outputs": [],
   "source": [
    "#check and make sure we got a successful response from the API\n",
    "response.ok"
   ]
  },
  {
   "cell_type": "code",
   "execution_count": 33,
   "id": "ed4d3256",
   "metadata": {},
   "outputs": [],
   "source": [
    "#view the response as a JSON\n"
   ]
  },
  {
   "cell_type": "code",
   "execution_count": null,
   "id": "92e6cd2c",
   "metadata": {},
   "outputs": [],
   "source": [
    "print(type(response.json()))"
   ]
  },
  {
   "cell_type": "code",
   "execution_count": 34,
   "id": "f074dfcf",
   "metadata": {},
   "outputs": [],
   "source": [
    "# We only want the Driver Standings\n",
    "data = response.json()['MRData']['StandingsTable']['StandingsLists'][0]['DriverStandings']\n"
   ]
  },
  {
   "cell_type": "code",
   "execution_count": 11,
   "id": "be46a950",
   "metadata": {},
   "outputs": [
    {
     "name": "stdout",
     "output_type": "stream",
     "text": [
      "<class 'list'>\n"
     ]
    }
   ],
   "source": [
    "print(type(data))"
   ]
  },
  {
   "cell_type": "code",
   "execution_count": 12,
   "id": "3740c752",
   "metadata": {
    "scrolled": true
   },
   "outputs": [
    {
     "data": {
      "text/plain": [
       "{'position': '1',\n",
       " 'positionText': '1',\n",
       " 'points': '35',\n",
       " 'wins': '2',\n",
       " 'Driver': {'driverId': 'raikkonen',\n",
       "  'permanentNumber': '7',\n",
       "  'code': 'RAI',\n",
       "  'url': 'http://en.wikipedia.org/wiki/Kimi_R%C3%A4ikk%C3%B6nen',\n",
       "  'givenName': 'Kimi',\n",
       "  'familyName': 'Räikkönen',\n",
       "  'dateOfBirth': '1979-10-17',\n",
       "  'nationality': 'Finnish'},\n",
       " 'Constructors': [{'constructorId': 'ferrari',\n",
       "   'url': 'http://en.wikipedia.org/wiki/Scuderia_Ferrari',\n",
       "   'name': 'Ferrari',\n",
       "   'nationality': 'Italian'}]}"
      ]
     },
     "execution_count": 12,
     "metadata": {},
     "output_type": "execute_result"
    }
   ],
   "source": [
    "data[0]"
   ]
  },
  {
   "cell_type": "code",
   "execution_count": null,
   "id": "f99221ea",
   "metadata": {},
   "outputs": [],
   "source": [
    "def get_racer_info(data):\n",
    "    new_data = []\n",
    "    \n",
    "    for racer in data:\n",
    "        racer_dict={}\n",
    "        racer_name= f\"{racer['Driver']['givenName']} {racer['Driver']['familyName']}\"\n",
    "        racer_dict[racer_name]={\n",
    "            \"last_name\":racer['Driver']['familyName'],\n",
    "            \"firs_name\":racer['Driver']['givenName'],\n",
    "            \"position\": racer['position'],\n",
    "            \"wins\": racer['wins'],\n",
    "            \"DOB\": racer['Driver']['dateOfBirth'],\n",
    "            \"nationality\": racer['Driver']['nationality'],\n",
    "            \"constructor\":racer['Constructors'][0]['constructorId'],\n",
    "        }\n",
    "        new_data.append(racer_dict)\n",
    "    return new_data\n",
    "        \n",
    "\n",
    "get_racer_info(data)"
   ]
  },
  {
   "cell_type": "code",
   "execution_count": 31,
   "id": "a4786d73",
   "metadata": {},
   "outputs": [
    {
     "data": {
      "text/plain": [
       "[{'Michael Schumacher': {'last_name': 'Schumacher',\n",
       "   'firs_name': 'Michael',\n",
       "   'position': '1',\n",
       "   'wins': '3',\n",
       "   'DOB': '1969-01-03',\n",
       "   'nationality': 'German',\n",
       "   'constructor': 'ferrari'}},\n",
       " {'Mika Häkkinen': {'last_name': 'Häkkinen',\n",
       "   'firs_name': 'Mika',\n",
       "   'position': '2',\n",
       "   'wins': '1',\n",
       "   'DOB': '1968-09-28',\n",
       "   'nationality': 'Finnish',\n",
       "   'constructor': 'mclaren'}},\n",
       " {'David Coulthard': {'last_name': 'Coulthard',\n",
       "   'firs_name': 'David',\n",
       "   'position': '3',\n",
       "   'wins': '1',\n",
       "   'DOB': '1971-03-27',\n",
       "   'nationality': 'British',\n",
       "   'constructor': 'mclaren'}},\n",
       " {'Rubens Barrichello': {'last_name': 'Barrichello',\n",
       "   'firs_name': 'Rubens',\n",
       "   'position': '4',\n",
       "   'wins': '0',\n",
       "   'DOB': '1972-05-23',\n",
       "   'nationality': 'Brazilian',\n",
       "   'constructor': 'ferrari'}},\n",
       " {'Ralf Schumacher': {'last_name': 'Schumacher',\n",
       "   'firs_name': 'Ralf',\n",
       "   'position': '5',\n",
       "   'wins': '0',\n",
       "   'DOB': '1975-06-30',\n",
       "   'nationality': 'German',\n",
       "   'constructor': 'williams'}},\n",
       " {'Giancarlo Fisichella': {'last_name': 'Fisichella',\n",
       "   'firs_name': 'Giancarlo',\n",
       "   'position': '6',\n",
       "   'wins': '0',\n",
       "   'DOB': '1973-01-14',\n",
       "   'nationality': 'Italian',\n",
       "   'constructor': 'benetton'}},\n",
       " {'Heinz-Harald Frentzen': {'last_name': 'Frentzen',\n",
       "   'firs_name': 'Heinz-Harald',\n",
       "   'position': '7',\n",
       "   'wins': '0',\n",
       "   'DOB': '1967-05-18',\n",
       "   'nationality': 'German',\n",
       "   'constructor': 'jordan'}},\n",
       " {'Jacques Villeneuve': {'last_name': 'Villeneuve',\n",
       "   'firs_name': 'Jacques',\n",
       "   'position': '8',\n",
       "   'wins': '0',\n",
       "   'DOB': '1971-04-09',\n",
       "   'nationality': 'Canadian',\n",
       "   'constructor': 'bar'}},\n",
       " {'Jarno Trulli': {'last_name': 'Trulli',\n",
       "   'firs_name': 'Jarno',\n",
       "   'position': '9',\n",
       "   'wins': '0',\n",
       "   'DOB': '1974-07-13',\n",
       "   'nationality': 'Italian',\n",
       "   'constructor': 'jordan'}},\n",
       " {'Jenson Button': {'last_name': 'Button',\n",
       "   'firs_name': 'Jenson',\n",
       "   'position': '10',\n",
       "   'wins': '0',\n",
       "   'DOB': '1980-01-19',\n",
       "   'nationality': 'British',\n",
       "   'constructor': 'williams'}},\n",
       " {'Mika Salo': {'last_name': 'Salo',\n",
       "   'firs_name': 'Mika',\n",
       "   'position': '11',\n",
       "   'wins': '0',\n",
       "   'DOB': '1966-11-30',\n",
       "   'nationality': 'Finnish',\n",
       "   'constructor': 'sauber'}},\n",
       " {'Ricardo Zonta': {'last_name': 'Zonta',\n",
       "   'firs_name': 'Ricardo',\n",
       "   'position': '12',\n",
       "   'wins': '0',\n",
       "   'DOB': '1976-03-23',\n",
       "   'nationality': 'Brazilian',\n",
       "   'constructor': 'bar'}},\n",
       " {'Alexander Wurz': {'last_name': 'Wurz',\n",
       "   'firs_name': 'Alexander',\n",
       "   'position': '13',\n",
       "   'wins': '0',\n",
       "   'DOB': '1974-02-15',\n",
       "   'nationality': 'Austrian',\n",
       "   'constructor': 'benetton'}},\n",
       " {'Eddie Irvine': {'last_name': 'Irvine',\n",
       "   'firs_name': 'Eddie',\n",
       "   'position': '14',\n",
       "   'wins': '0',\n",
       "   'DOB': '1965-11-10',\n",
       "   'nationality': 'British',\n",
       "   'constructor': 'jaguar'}},\n",
       " {'Jos Verstappen': {'last_name': 'Verstappen',\n",
       "   'firs_name': 'Jos',\n",
       "   'position': '15',\n",
       "   'wins': '0',\n",
       "   'DOB': '1972-03-04',\n",
       "   'nationality': 'Dutch',\n",
       "   'constructor': 'arrows'}},\n",
       " {'Pedro Diniz': {'last_name': 'Diniz',\n",
       "   'firs_name': 'Pedro',\n",
       "   'position': '16',\n",
       "   'wins': '0',\n",
       "   'DOB': '1970-05-22',\n",
       "   'nationality': 'Brazilian',\n",
       "   'constructor': 'sauber'}},\n",
       " {'Marc Gené': {'last_name': 'Gené',\n",
       "   'firs_name': 'Marc',\n",
       "   'position': '17',\n",
       "   'wins': '0',\n",
       "   'DOB': '1974-03-29',\n",
       "   'nationality': 'Spanish',\n",
       "   'constructor': 'minardi'}},\n",
       " {'Pedro de la Rosa': {'last_name': 'de la Rosa',\n",
       "   'firs_name': 'Pedro',\n",
       "   'position': '18',\n",
       "   'wins': '0',\n",
       "   'DOB': '1971-02-24',\n",
       "   'nationality': 'Spanish',\n",
       "   'constructor': 'arrows'}},\n",
       " {'Nick Heidfeld': {'last_name': 'Heidfeld',\n",
       "   'firs_name': 'Nick',\n",
       "   'position': '19',\n",
       "   'wins': '0',\n",
       "   'DOB': '1977-05-10',\n",
       "   'nationality': 'German',\n",
       "   'constructor': 'prost'}},\n",
       " {'Johnny Herbert': {'last_name': 'Herbert',\n",
       "   'firs_name': 'Johnny',\n",
       "   'position': '20',\n",
       "   'wins': '0',\n",
       "   'DOB': '1964-06-25',\n",
       "   'nationality': 'British',\n",
       "   'constructor': 'jaguar'}},\n",
       " {'Gastón Mazzacane': {'last_name': 'Mazzacane',\n",
       "   'firs_name': 'Gastón',\n",
       "   'position': '21',\n",
       "   'wins': '0',\n",
       "   'DOB': '1975-05-08',\n",
       "   'nationality': 'Argentine',\n",
       "   'constructor': 'minardi'}},\n",
       " {'Jean Alesi': {'last_name': 'Alesi',\n",
       "   'firs_name': 'Jean',\n",
       "   'position': '22',\n",
       "   'wins': '0',\n",
       "   'DOB': '1964-06-11',\n",
       "   'nationality': 'French',\n",
       "   'constructor': 'prost'}}]"
      ]
     },
     "execution_count": 31,
     "metadata": {},
     "output_type": "execute_result"
    }
   ],
   "source": [
    "def get_drive_info_by_year_and_round(year, r):\n",
    "    url = f'https://ergast.com/api/f1/{year}/{r}/driverStandings.json'\n",
    "    response = requests.get(url)\n",
    "    data = response.json()\n",
    "    \n",
    "    if not response.ok:\n",
    "        return 'Unexpected Error'\n",
    "    if not data['MRData']['StandingsTable']['StandingsLists']:\n",
    "        return \"Error Loading Data\"\n",
    "    \n",
    "    \n",
    "    return get_racer_info(data['MRData']['StandingsTable']['StandingsLists'][0]['DriverStandings'])\n",
    "\n",
    "get_drive_info_by_year_and_round(2000, 5)"
   ]
  },
  {
   "cell_type": "code",
   "execution_count": null,
   "id": "683c1407",
   "metadata": {},
   "outputs": [],
   "source": []
  },
  {
   "cell_type": "code",
   "execution_count": null,
   "id": "e67f714b",
   "metadata": {},
   "outputs": [],
   "source": []
  },
  {
   "cell_type": "code",
   "execution_count": null,
   "id": "70288592",
   "metadata": {},
   "outputs": [],
   "source": []
  },
  {
   "cell_type": "markdown",
   "id": "6d546014",
   "metadata": {},
   "source": [
    "# <strong>Homework</strong>\n",
    "check out this Pokemon API https://pokeapi.co/\n",
    "Use the requests package to connect to this API and get and store data for 5 different pokemon.\n",
    "Get the pokemons: name, atleast one ability's name, base_experience, and the URL for its sprite (an image that shows up on screen) for the 'front_shiny', attack base_state, hp base_stat, defense base_stat"
   ]
  },
  {
   "cell_type": "code",
   "execution_count": 9,
   "id": "5a9081e3",
   "metadata": {
    "scrolled": true
   },
   "outputs": [
    {
     "name": "stdout",
     "output_type": "stream",
     "text": [
      "<Response [404]>\n",
      "not ok\n"
     ]
    }
   ],
   "source": [
    "import requests\n",
    "\n",
    "url = f'https://pokeapi.co/api/v2/pokemon/moltre'\n",
    "response = requests.get(url)\n",
    "\n",
    "\n",
    "\n",
    "print(response)\n",
    "if not response.ok:\n",
    "    print('not ok')\n"
   ]
  },
  {
   "cell_type": "code",
   "execution_count": null,
   "id": "1f9b55ed",
   "metadata": {
    "scrolled": true
   },
   "outputs": [],
   "source": []
  },
  {
   "cell_type": "code",
   "execution_count": 2,
   "id": "681814ef",
   "metadata": {},
   "outputs": [
    {
     "name": "stdout",
     "output_type": "stream",
     "text": [
      "You have 6 spots available\n",
      "\n",
      "What pokemon would you like to add to your team: Charizard\n",
      "You have 5 spots available\n",
      "\n",
      "What pokemon would you like to add to your team: Gengar\n",
      "You have 4 spots available\n",
      "\n",
      "What pokemon would you like to add to your team: Snorlaz\n",
      "Snorlaz does not appear to be a valid selection.\n",
      "\n",
      "Please Try again\n",
      "You have 4 spots available\n",
      "\n",
      "What pokemon would you like to add to your team: Snorlax\n",
      "You have 3 spots available\n",
      "\n",
      "What pokemon would you like to add to your team: Jolteon\n",
      "You have 2 spots available\n",
      "\n",
      "What pokemon would you like to add to your team: Lapras\n",
      "You have 1 spots available\n",
      "\n",
      "What pokemon would you like to add to your team: Dragonite\n",
      "You're team is: \n",
      "\n",
      " {'charizard': {'Ability': 'blaze', 'Base Exp': 267, 'Base Attk': 84, 'Base HP': 78, 'Base Def': 78, 'Sprite': 'https://raw.githubusercontent.com/PokeAPI/sprites/master/sprites/pokemon/other/official-artwork/6.png'}}\n",
      "\n",
      " {'gengar': {'Ability': 'cursed-body', 'Base Exp': 250, 'Base Attk': 65, 'Base HP': 60, 'Base Def': 60, 'Sprite': 'https://raw.githubusercontent.com/PokeAPI/sprites/master/sprites/pokemon/other/official-artwork/94.png'}}\n",
      "\n",
      " {'snorlax': {'Ability': 'immunity', 'Base Exp': 189, 'Base Attk': 110, 'Base HP': 160, 'Base Def': 65, 'Sprite': 'https://raw.githubusercontent.com/PokeAPI/sprites/master/sprites/pokemon/other/official-artwork/143.png'}}\n",
      "\n",
      " {'jolteon': {'Ability': 'volt-absorb', 'Base Exp': 184, 'Base Attk': 65, 'Base HP': 65, 'Base Def': 60, 'Sprite': 'https://raw.githubusercontent.com/PokeAPI/sprites/master/sprites/pokemon/other/official-artwork/135.png'}}\n",
      "\n",
      " {'lapras': {'Ability': 'water-absorb', 'Base Exp': 187, 'Base Attk': 85, 'Base HP': 130, 'Base Def': 80, 'Sprite': 'https://raw.githubusercontent.com/PokeAPI/sprites/master/sprites/pokemon/other/official-artwork/131.png'}}\n",
      "\n",
      " {'dragonite': {'Ability': 'inner-focus', 'Base Exp': 300, 'Base Attk': 134, 'Base HP': 91, 'Base Def': 95, 'Sprite': 'https://raw.githubusercontent.com/PokeAPI/sprites/master/sprites/pokemon/other/official-artwork/149.png'}}\n"
     ]
    }
   ],
   "source": [
    "import requests\n",
    "\n",
    "# I Made a pokemon team builder\n",
    "#If you didn't know pokemon teams consist of 6 pokemon....not 5\n",
    "# If you'd like to see my personal favorite gen 1 team\n",
    "# its Charizard, Gengar, Dragonite, Jolteon, Snorlax, Lapras\n",
    "#......That's right I don't spam legendaries\n",
    "\n",
    "\n",
    "def build_team():\n",
    "    my_team =[]\n",
    "    while len(my_team) < 6:\n",
    "        print(f\"You have {6-len(my_team)} spots available\")\n",
    "        name = input(\"\\nWhat pokemon would you like to add to your team: \").lower()\n",
    "        url = f'https://pokeapi.co/api/v2/pokemon/{name}'\n",
    "        response = requests.get(url)\n",
    "        \n",
    "        if not response.ok:\n",
    "            print(f\"{name.title()} does not appear to be a valid selection.\")\n",
    "            print(\"\\nPlease Try again\")\n",
    "        else:\n",
    "            pokemon = response.json()\n",
    "            my_team.append(get_poke(pokemon))\n",
    "    print(\"You're team is: \")\n",
    "    for pokemon in my_team:\n",
    "        print('\\n', pokemon)\n",
    "    \n",
    "\n",
    "def get_poke(pokemon):\n",
    "    pokemon_dict = {}\n",
    "    pokemon_dict[pokemon[\"name\"]] ={\n",
    "    \"Ability\":pokemon[\"abilities\"][0]['ability']['name'],\n",
    "    \"Base Exp\":pokemon[\"base_experience\"],\n",
    "    \"Base Attk\":pokemon[\"stats\"][1]['base_stat'],\n",
    "    \"Base HP\":pokemon[\"stats\"][0]['base_stat'],\n",
    "    \"Base Def\":pokemon[\"stats\"][2]['base_stat'],\n",
    "    \"Sprite\":pokemon[\"sprites\"]['other']['official-artwork'][\"front_default\"],\n",
    "    }\n",
    "    return pokemon_dict\n",
    "\n",
    "build_team()\n"
   ]
  }
 ],
 "metadata": {
  "kernelspec": {
   "display_name": "Python 3 (ipykernel)",
   "language": "python",
   "name": "python3"
  },
  "language_info": {
   "codemirror_mode": {
    "name": "ipython",
    "version": 3
   },
   "file_extension": ".py",
   "mimetype": "text/x-python",
   "name": "python",
   "nbconvert_exporter": "python",
   "pygments_lexer": "ipython3",
   "version": "3.9.12"
  }
 },
 "nbformat": 4,
 "nbformat_minor": 5
}
